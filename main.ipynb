{
 "cells": [
  {
   "cell_type": "code",
   "execution_count": 1,
   "metadata": {},
   "outputs": [
    {
     "name": "stdout",
     "output_type": "stream",
     "text": [
      "usuarios regionales: 780,563 clientes\n"
     ]
    },
    {
     "ename": "TypeError",
     "evalue": "'>' not supported between instances of 'NoneType' and 'int'",
     "output_type": "error",
     "traceback": [
      "\u001b[1;31m---------------------------------------------------------------------------\u001b[0m",
      "\u001b[1;31mTypeError\u001b[0m                                 Traceback (most recent call last)",
      "Cell \u001b[1;32mIn[1], line 19\u001b[0m\n\u001b[0;32m     17\u001b[0m \u001b[38;5;66;03m#data\u001b[39;00m\n\u001b[0;32m     18\u001b[0m curr \u001b[38;5;241m=\u001b[39m SecApi()\n\u001b[1;32m---> 19\u001b[0m curr\u001b[38;5;241m.\u001b[39mrequest(\u001b[38;5;124m'\u001b[39m\u001b[38;5;124maffected_detail\u001b[39m\u001b[38;5;124m'\u001b[39m,\u001b[43mSecPayload\u001b[49m\u001b[43m(\u001b[49m\u001b[43m)\u001b[49m) \n\u001b[0;32m     20\u001b[0m curr_df\u001b[38;5;241m=\u001b[39mcurr\u001b[38;5;241m.\u001b[39mdataframe(FECHA_INT_STR\u001b[38;5;241m=\u001b[39mstr2date)\n\u001b[0;32m     21\u001b[0m curr_df\u001b[38;5;241m=\u001b[39m curr_df[curr_df[\u001b[38;5;124m'\u001b[39m\u001b[38;5;124mNOMBRE_REGION\u001b[39m\u001b[38;5;124m'\u001b[39m]\u001b[38;5;241m==\u001b[39mregion]\u001b[38;5;241m.\u001b[39mdrop(columns\u001b[38;5;241m=\u001b[39m[\u001b[38;5;124m'\u001b[39m\u001b[38;5;124mHORA\u001b[39m\u001b[38;5;124m'\u001b[39m,\u001b[38;5;124m'\u001b[39m\u001b[38;5;124mDIA\u001b[39m\u001b[38;5;124m'\u001b[39m,\u001b[38;5;124m'\u001b[39m\u001b[38;5;124mMES\u001b[39m\u001b[38;5;124m'\u001b[39m,\u001b[38;5;124m'\u001b[39m\u001b[38;5;124mANHO\u001b[39m\u001b[38;5;124m'\u001b[39m])\n",
      "File \u001b[1;32mc:\\Users\\crcam\\Dev\\sec-report\\models\\Payload.py:21\u001b[0m, in \u001b[0;36mSecPayload.__init__\u001b[1;34m(self, date, delay_hours, delay_days)\u001b[0m\n\u001b[0;32m     19\u001b[0m \u001b[38;5;28;01mdef\u001b[39;00m \u001b[38;5;21m__init__\u001b[39m(\u001b[38;5;28mself\u001b[39m, date:datetime\u001b[38;5;241m=\u001b[39mdatetime\u001b[38;5;241m.\u001b[39mnow(),delay_hours:\u001b[38;5;28mint\u001b[39m\u001b[38;5;241m|\u001b[39m\u001b[38;5;28;01mNone\u001b[39;00m\u001b[38;5;241m=\u001b[39m\u001b[38;5;28;01mNone\u001b[39;00m,delay_days:\u001b[38;5;28mint\u001b[39m\u001b[38;5;241m|\u001b[39m\u001b[38;5;28;01mNone\u001b[39;00m\u001b[38;5;241m=\u001b[39m\u001b[38;5;28;01mNone\u001b[39;00m) \u001b[38;5;241m-\u001b[39m\u001b[38;5;241m>\u001b[39m \u001b[38;5;28;01mNone\u001b[39;00m:\n\u001b[1;32m---> 21\u001b[0m     \u001b[38;5;28;01mif\u001b[39;00m \u001b[43mdelay_hours\u001b[49m\u001b[38;5;241;43m>\u001b[39;49m\u001b[38;5;241;43m0\u001b[39;49m:\n\u001b[0;32m     22\u001b[0m         \u001b[38;5;66;03m#delay\u001b[39;00m\n\u001b[0;32m     23\u001b[0m         date \u001b[38;5;241m=\u001b[39m datetime\u001b[38;5;241m.\u001b[39mnow()\u001b[38;5;241m-\u001b[39m timedelta(hours\u001b[38;5;241m=\u001b[39mdelay_hours,days\u001b[38;5;241m=\u001b[39mdelay_days)\n\u001b[0;32m     24\u001b[0m     \u001b[38;5;28msuper\u001b[39m()\u001b[38;5;241m.\u001b[39m\u001b[38;5;21m__init__\u001b[39m(mes\u001b[38;5;241m=\u001b[39mdate\u001b[38;5;241m.\u001b[39mmonth,dia\u001b[38;5;241m=\u001b[39mdate\u001b[38;5;241m.\u001b[39mday,hora\u001b[38;5;241m=\u001b[39mdate\u001b[38;5;241m.\u001b[39mhour,anho\u001b[38;5;241m=\u001b[39mdate\u001b[38;5;241m.\u001b[39myear)\n",
      "\u001b[1;31mTypeError\u001b[0m: '>' not supported between instances of 'NoneType' and 'int'"
     ]
    }
   ],
   "source": [
    "from datetime import datetime, timedelta\n",
    "from pandas import DataFrame\n",
    "from models.Payload import REGION, RegPayload, SecPayload\n",
    "from models.Source import DataSource as SecApi\n",
    "from utils.transforms import str2date\n",
    "from urllib.parse import urlencode as url\n",
    "#cspell:disable\n",
    "\n",
    "#input\n",
    "region:REGION='Valparaiso'\n",
    "#total regional clients\n",
    "users = SecApi()\n",
    "q = users.request('reg_clients',RegPayload(region=region))\n",
    "clients = int(q[0]['CLIENTES'])\n",
    "print(f\"usuarios regionales: {clients:,.0f} clientes\")\n",
    "\n",
    "#data\n",
    "curr = SecApi()\n",
    "curr.request('affected_detail',SecPayload()) \n",
    "curr_df=curr.dataframe(FECHA_INT_STR=str2date)\n",
    "curr_df= curr_df[curr_df['NOMBRE_REGION']==region].drop(columns=['HORA','DIA','MES','ANHO'])\n",
    "affected = curr_df['CLIENTES_AFECTADOS'].sum()\n",
    "\n",
    "print('usuarios sin servicio :',f'{affected:,.0f}',' clientes',f'{affected/clients:.2%}')\n",
    "\n",
    "res:DataFrame = curr_df.groupby(['NOMBRE_COMUNA','NOMBRE_EMPRESA','FECHA_INT_STR'],as_index=False)['CLIENTES_AFECTADOS'].sum().sort_values(['CLIENTES_AFECTADOS'],ascending=False)\n",
    "\n",
    "#cspell:disable\n",
    "res:DataFrame = res.rename(columns={\n",
    "    'FECHA_INT_STR':'INCIDENTE',\n",
    "    'CLIENTES_AFECTADOS':'SIN_SERVICIO',\n",
    "    'NOMBRE_EMPRESA':'DISTRIBUIDORA',\n",
    "    'NOMBRE_COMUNA':'COMUNA'\n",
    "    })\n",
    "\n",
    "#days w/o service\n",
    "res['TIEMPO_SIN_SERVICIO'] = res['INCIDENTE'].apply(lambda event_date: datetime.now()-event_date+timedelta(days=1) )\n",
    "res"
   ]
  },
  {
   "cell_type": "code",
   "execution_count": null,
   "metadata": {},
   "outputs": [],
   "source": [
    "res_by_city:DataFrame = curr_df.groupby(['NOMBRE_COMUNA'],as_index=False)['CLIENTES_AFECTADOS']\\\n",
    "    .sum().sort_values(['CLIENTES_AFECTADOS'],ascending=False)\n",
    "res_by_city"
   ]
  },
  {
   "cell_type": "code",
   "execution_count": null,
   "metadata": {},
   "outputs": [],
   "source": [
    "def test(**kwargs:dict[str,int]):\n",
    "    print(kwargs)\n",
    "\n",
    "test(hours=10,days=20)"
   ]
  }
 ],
 "metadata": {
  "kernelspec": {
   "display_name": "Python 3",
   "language": "python",
   "name": "python3"
  },
  "language_info": {
   "codemirror_mode": {
    "name": "ipython",
    "version": 3
   },
   "file_extension": ".py",
   "mimetype": "text/x-python",
   "name": "python",
   "nbconvert_exporter": "python",
   "pygments_lexer": "ipython3",
   "version": "3.12.0"
  }
 },
 "nbformat": 4,
 "nbformat_minor": 2
}
