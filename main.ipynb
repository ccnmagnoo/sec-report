{
 "cells": [
  {
   "cell_type": "code",
   "execution_count": null,
   "metadata": {},
   "outputs": [],
   "source": [
    "#source\n",
    "src_clients_count='https://apps.sec.cl/INTONLINEv1/ClientesAfectados/GetClientesNacional'\n",
    "src_regional_clients = 'https://apps.sec.cl/INTONLINEv1/ClientesAfectados/Get'\n",
    "src_server_hour='https://apps.sec.cl/INTONLINEv1/ClientesAfectados/GetHoraServer'\n",
    "#local data\n",
    "src_total_affected='https://apps.sec.cl/INTONLINEv1/ClientesAfectados/Get'\n",
    "src_affected_report = 'https://apps.sec.cl/INTONLINEv1/ClientesAfectados/GetPorFecha'\n"
   ]
  }
 ],
 "metadata": {
  "language_info": {
   "name": "python"
  }
 },
 "nbformat": 4,
 "nbformat_minor": 2
}
