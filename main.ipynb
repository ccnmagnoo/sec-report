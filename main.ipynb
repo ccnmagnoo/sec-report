{
 "cells": [
  {
   "cell_type": "code",
   "execution_count": null,
   "metadata": {},
   "outputs": [],
   "source": []
  },
  {
   "cell_type": "code",
   "execution_count": 5,
   "metadata": {},
   "outputs": [
    {
     "ename": "ImportError",
     "evalue": "cannot import name 'str2date' from 'utils.transforms' (c:\\Users\\crcam\\Dev\\sec-report\\utils\\transforms.py)",
     "output_type": "error",
     "traceback": [
      "\u001b[1;31m---------------------------------------------------------------------------\u001b[0m",
      "\u001b[1;31mImportError\u001b[0m                               Traceback (most recent call last)",
      "Cell \u001b[1;32mIn[5], line 3\u001b[0m\n\u001b[0;32m      1\u001b[0m \u001b[38;5;28;01mfrom\u001b[39;00m \u001b[38;5;21;01mmodels\u001b[39;00m\u001b[38;5;21;01m.\u001b[39;00m\u001b[38;5;21;01mPayload\u001b[39;00m \u001b[38;5;28;01mimport\u001b[39;00m RegPayload, SecPayload\n\u001b[0;32m      2\u001b[0m \u001b[38;5;28;01mfrom\u001b[39;00m \u001b[38;5;21;01mmodels\u001b[39;00m\u001b[38;5;21;01m.\u001b[39;00m\u001b[38;5;21;01mSource\u001b[39;00m \u001b[38;5;28;01mimport\u001b[39;00m DataSource \u001b[38;5;28;01mas\u001b[39;00m SecApi\n\u001b[1;32m----> 3\u001b[0m \u001b[38;5;28;01mfrom\u001b[39;00m \u001b[38;5;21;01mutils\u001b[39;00m\u001b[38;5;21;01m.\u001b[39;00m\u001b[38;5;21;01mtransforms\u001b[39;00m \u001b[38;5;28;01mimport\u001b[39;00m str2date\n\u001b[0;32m      5\u001b[0m \u001b[38;5;66;03m#data\u001b[39;00m\n\u001b[0;32m      6\u001b[0m sec \u001b[38;5;241m=\u001b[39m SecApi()\n",
      "\u001b[1;31mImportError\u001b[0m: cannot import name 'str2date' from 'utils.transforms' (c:\\Users\\crcam\\Dev\\sec-report\\utils\\transforms.py)"
     ]
    }
   ],
   "source": [
    "from models.Payload import RegPayload, SecPayload\n",
    "from models.Source import DataSource as SecApi\n",
    "from utils.transforms import str2date\n",
    "\n",
    "#data\n",
    "sec = SecApi()\n",
    "sec.request('affected_detail',SecPayload())\n",
    "df=sec.dataframe(FECHA_INT_STR=str2date)\n",
    "df= df[df['NOMBRE_REGION']=='Valparaiso'].sort_values(by=['FECHA_INT_STR'],ascending=False)\n",
    "df\n"
   ]
  }
 ],
 "metadata": {
  "kernelspec": {
   "display_name": "Python 3",
   "language": "python",
   "name": "python3"
  },
  "language_info": {
   "codemirror_mode": {
    "name": "ipython",
    "version": 3
   },
   "file_extension": ".py",
   "mimetype": "text/x-python",
   "name": "python",
   "nbconvert_exporter": "python",
   "pygments_lexer": "ipython3",
   "version": "3.12.0"
  }
 },
 "nbformat": 4,
 "nbformat_minor": 2
}
