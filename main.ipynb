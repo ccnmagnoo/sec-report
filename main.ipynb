{
 "cells": [
  {
   "cell_type": "code",
   "execution_count": 1,
   "metadata": {},
   "outputs": [],
   "source": [
    "#source\n",
    "SRC_NAC_CLIENTS='https://apps.sec.cl/INTONLINEv1/ClientesAfectados/GetClientesNacional'\n",
    "SRL_REG_CLIENTS= 'https://apps.sec.cl/INTONLINEv1/ClientesAfectados/GetClientesRegional'\n",
    "SRC_HOUR ='https://apps.sec.cl/INTONLINEv1/ClientesAfectados/GetHoraServer'\n",
    "#local data\n",
    "SRC_AFFECTED_AGG ='https://apps.sec.cl/INTONLINEv1/ClientesAfectados/Get'\n",
    "SRC_AFFECTED = 'https://apps.sec.cl/INTONLINEv1/ClientesAfectados/GetPorFecha'"
   ]
  },
  {
   "cell_type": "code",
   "execution_count": 2,
   "metadata": {},
   "outputs": [
    {
     "data": {
      "text/plain": [
       "[{'REGION_ID': '5',\n",
       "  'NOMBRE_REGION': 'Region de Valparaiso',\n",
       "  'PERIODO_STAR': '052019',\n",
       "  'CLIENTES': '780563'}]"
      ]
     },
     "execution_count": 2,
     "metadata": {},
     "output_type": "execute_result"
    }
   ],
   "source": [
    "import requests\n",
    "\n",
    "req = requests.post(url='https://apps.sec.cl/INTONLINEv1/ClientesAfectados/GetClientesRegional',json={\"region\":\"Valparaiso\"})\n",
    "req.json()"
   ]
  },
  {
   "cell_type": "code",
   "execution_count": 5,
   "metadata": {},
   "outputs": [
    {
     "name": "stdout",
     "output_type": "stream",
     "text": [
      "loading keys: {'region': 'Valparaiso'} values: ()\n"
     ]
    },
    {
     "data": {
      "text/plain": [
       "{'status': 200,\n",
       " 'result': [{'REGION_ID': '13',\n",
       "   'NOMBRE_REGION': 'Region Metropolitana de Santiago',\n",
       "   'PERIODO_STAR': '052019',\n",
       "   'CLIENTES': '2467769'},\n",
       "  {'REGION_ID': '11',\n",
       "   'NOMBRE_REGION': 'Region de Aysen del Gral. Carlos Ibañez del Campo',\n",
       "   'PERIODO_STAR': '052019',\n",
       "   'CLIENTES': '41194'},\n",
       "  {'REGION_ID': '2',\n",
       "   'NOMBRE_REGION': 'Region de Antofagasta',\n",
       "   'PERIODO_STAR': '052019',\n",
       "   'CLIENTES': '185408'},\n",
       "  {'REGION_ID': '15',\n",
       "   'NOMBRE_REGION': 'Region de Arica y Parinacota',\n",
       "   'PERIODO_STAR': '052019',\n",
       "   'CLIENTES': '75542'},\n",
       "  {'REGION_ID': '3',\n",
       "   'NOMBRE_REGION': 'Region de Atacama',\n",
       "   'PERIODO_STAR': '052019',\n",
       "   'CLIENTES': '105044'},\n",
       "  {'REGION_ID': '4',\n",
       "   'NOMBRE_REGION': 'Region de Coquimbo',\n",
       "   'PERIODO_STAR': '052019',\n",
       "   'CLIENTES': '312175'},\n",
       "  {'REGION_ID': '9',\n",
       "   'NOMBRE_REGION': 'Region de La Araucania',\n",
       "   'PERIODO_STAR': '052019',\n",
       "   'CLIENTES': '348255'},\n",
       "  {'REGION_ID': '10',\n",
       "   'NOMBRE_REGION': 'Region de Los Lagos',\n",
       "   'PERIODO_STAR': '052019',\n",
       "   'CLIENTES': '342183'},\n",
       "  {'REGION_ID': '14',\n",
       "   'NOMBRE_REGION': 'Region de Los Rios',\n",
       "   'PERIODO_STAR': '052019',\n",
       "   'CLIENTES': '153654'},\n",
       "  {'REGION_ID': '12',\n",
       "   'NOMBRE_REGION': 'Region de Magallanes y de la Antartica Chilena',\n",
       "   'PERIODO_STAR': '052019',\n",
       "   'CLIENTES': '63233'},\n",
       "  {'REGION_ID': '1',\n",
       "   'NOMBRE_REGION': 'Region de Tarapaca',\n",
       "   'PERIODO_STAR': '052019',\n",
       "   'CLIENTES': '105155'},\n",
       "  {'REGION_ID': '5',\n",
       "   'NOMBRE_REGION': 'Region de Valparaiso',\n",
       "   'PERIODO_STAR': '052019',\n",
       "   'CLIENTES': '780563'},\n",
       "  {'REGION_ID': '16',\n",
       "   'NOMBRE_REGION': 'Region de Ñuble',\n",
       "   'PERIODO_STAR': '052019',\n",
       "   'CLIENTES': '197496'},\n",
       "  {'REGION_ID': '8',\n",
       "   'NOMBRE_REGION': 'Region del Biobio',\n",
       "   'PERIODO_STAR': '052019',\n",
       "   'CLIENTES': '564360'},\n",
       "  {'REGION_ID': '6',\n",
       "   'NOMBRE_REGION': \"Region del Libertador Gral. Bernardo O'Higgins\",\n",
       "   'PERIODO_STAR': '052019',\n",
       "   'CLIENTES': '352750'},\n",
       "  {'REGION_ID': '7',\n",
       "   'NOMBRE_REGION': 'Region del Maule',\n",
       "   'PERIODO_STAR': '052019',\n",
       "   'CLIENTES': '439807'}]}"
      ]
     },
     "execution_count": 5,
     "metadata": {},
     "output_type": "execute_result"
    }
   ],
   "source": [
    "from models.Payload import RegPayload, SecPayload\n",
    "from models.Source import data_source,DataSource\n",
    "#data = data_source.request(source='reg_clients'\t,payload=RegPayload(region='Valparaiso'))\n",
    "#data\n",
    "\n",
    "data = data_source.request('reg_clients',RegPayload(region='Valparaiso'))\n",
    "data\n"
   ]
  }
 ],
 "metadata": {
  "kernelspec": {
   "display_name": "Python 3",
   "language": "python",
   "name": "python3"
  },
  "language_info": {
   "codemirror_mode": {
    "name": "ipython",
    "version": 3
   },
   "file_extension": ".py",
   "mimetype": "text/x-python",
   "name": "python",
   "nbconvert_exporter": "python",
   "pygments_lexer": "ipython3",
   "version": "3.12.0"
  }
 },
 "nbformat": 4,
 "nbformat_minor": 2
}
