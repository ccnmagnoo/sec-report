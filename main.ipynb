{
 "cells": [
  {
   "cell_type": "code",
   "execution_count": null,
   "metadata": {},
   "outputs": [],
   "source": [
    "#source\n",
    "src_clients_count='https://apps.sec.cl/INTONLINEv1/ClientesAfectados/GetClientesNacional'\n",
    "src_server_hour='https://apps.sec.cl/INTONLINEv1/ClientesAfectados/GetHoraServer'\n",
    "src_affected_hour='https://apps.sec.cl/INTONLINEv1/ClientesAfectados/Get'\n",
    "#local data\n",
    "src_regional_count = 'https://apps.sec.cl/INTONLINEv1/ClientesAfectados/Get'"
   ]
  }
 ],
 "metadata": {
  "language_info": {
   "name": "python"
  }
 },
 "nbformat": 4,
 "nbformat_minor": 2
}
