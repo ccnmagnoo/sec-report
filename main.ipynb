{
  "cells": [
    {
      "cell_type": "code",
      "execution_count": 1,
      "metadata": {},
      "outputs": [
        {
          "name": "stdout",
          "output_type": "stream",
          "text": [
            "usuarios regionales    : 780,563 clientes\n",
            "usuarios sin servicio  : 202  clientes (0.03%)\n",
            "fecha reporte          : 26/08/2024 10:03\n",
            "usuarios sin servicio  : 597  clientes (0.08%)\n",
            "fecha reporte          : 25/08/2024 09:59\n"
          ]
        },
        {
          "data": {
            "text/html": [
              "<div>\n",
              "<style scoped>\n",
              "    .dataframe tbody tr th:only-of-type {\n",
              "        vertical-align: middle;\n",
              "    }\n",
              "\n",
              "    .dataframe tbody tr th {\n",
              "        vertical-align: top;\n",
              "    }\n",
              "\n",
              "    .dataframe thead th {\n",
              "        text-align: right;\n",
              "    }\n",
              "</style>\n",
              "<table border=\"1\" class=\"dataframe\">\n",
              "  <thead>\n",
              "    <tr style=\"text-align: right;\">\n",
              "      <th></th>\n",
              "      <th>COMUNA</th>\n",
              "      <th>DISTRIBUIDORA</th>\n",
              "      <th>INCIDENTE</th>\n",
              "      <th>SIN_SERVICIO</th>\n",
              "      <th>TIEMPO_SIN_SERVICIO</th>\n",
              "    </tr>\n",
              "  </thead>\n",
              "  <tbody>\n",
              "    <tr>\n",
              "      <th>5</th>\n",
              "      <td>Viña del Mar</td>\n",
              "      <td>CHILQUINTA</td>\n",
              "      <td>2024-02-19</td>\n",
              "      <td>155</td>\n",
              "      <td>189 days 10:03:53.070828</td>\n",
              "    </tr>\n",
              "    <tr>\n",
              "      <th>3</th>\n",
              "      <td>Quilpue</td>\n",
              "      <td>CHILQUINTA</td>\n",
              "      <td>2024-02-19</td>\n",
              "      <td>37</td>\n",
              "      <td>189 days 10:03:53.070828</td>\n",
              "    </tr>\n",
              "    <tr>\n",
              "      <th>1</th>\n",
              "      <td>Limache</td>\n",
              "      <td>CHILQUINTA</td>\n",
              "      <td>2024-08-26</td>\n",
              "      <td>7</td>\n",
              "      <td>0 days 10:03:53.070828</td>\n",
              "    </tr>\n",
              "    <tr>\n",
              "      <th>0</th>\n",
              "      <td>La Ligua</td>\n",
              "      <td>CGE</td>\n",
              "      <td>2024-08-26</td>\n",
              "      <td>1</td>\n",
              "      <td>0 days 10:03:53.070828</td>\n",
              "    </tr>\n",
              "    <tr>\n",
              "      <th>2</th>\n",
              "      <td>Petorca</td>\n",
              "      <td>CGE</td>\n",
              "      <td>2024-08-26</td>\n",
              "      <td>1</td>\n",
              "      <td>0 days 10:03:53.070828</td>\n",
              "    </tr>\n",
              "    <tr>\n",
              "      <th>4</th>\n",
              "      <td>Viña del Mar</td>\n",
              "      <td>CGE</td>\n",
              "      <td>2024-08-26</td>\n",
              "      <td>1</td>\n",
              "      <td>0 days 10:03:53.070828</td>\n",
              "    </tr>\n",
              "  </tbody>\n",
              "</table>\n",
              "</div>"
            ],
            "text/plain": [
              "         COMUNA DISTRIBUIDORA  INCIDENTE  SIN_SERVICIO  \\\n",
              "5  Viña del Mar    CHILQUINTA 2024-02-19           155   \n",
              "3       Quilpue    CHILQUINTA 2024-02-19            37   \n",
              "1       Limache    CHILQUINTA 2024-08-26             7   \n",
              "0      La Ligua           CGE 2024-08-26             1   \n",
              "2       Petorca           CGE 2024-08-26             1   \n",
              "4  Viña del Mar           CGE 2024-08-26             1   \n",
              "\n",
              "       TIEMPO_SIN_SERVICIO  \n",
              "5 189 days 10:03:53.070828  \n",
              "3 189 days 10:03:53.070828  \n",
              "1   0 days 10:03:53.070828  \n",
              "0   0 days 10:03:53.070828  \n",
              "2   0 days 10:03:53.070828  \n",
              "4   0 days 10:03:53.070828  \n",
              "         COMUNA DISTRIBUIDORA  INCIDENTE  SIN_SERVICIO TIEMPO_SIN_SERVICIO\n",
              "2  Viña del Mar    CHILQUINTA 2024-02-19           513   188 dias 10 horas\n",
              "1       Quilpue    CHILQUINTA 2024-02-19            83   188 dias 10 horas\n",
              "0    Puchuncavi           CGE 2024-08-25             1     0 dias 10 horas"
            ]
          },
          "execution_count": 1,
          "metadata": {},
          "output_type": "execute_result"
        }
      ],
      "source": [
        "from datetime import datetime, timedelta\n",
        "from pandas import DataFrame\n",
        "from models.Payload import REGION, RegPayload, AffectedPayload\n",
        "from models.Source import DataSource as SecApi\n",
        "from utils.transforms import deltatime_fmt, str2date\n",
        "from urllib.parse import urlencode as url\n",
        "#cspell:disable\n",
        "\n",
        "#input\n",
        "region:REGION='Valparaiso'\n",
        "#total regional clients\n",
        "users = SecApi()\n",
        "q = users.request('reg_clients',RegPayload(region=region))\n",
        "clients = int(q[0]['CLIENTES'])\n",
        "print(f\"{\"usuarios regionales\":<22}\",':',f\"{clients:,.0f} clientes\")\n",
        "\n",
        "#data\n",
        "curr = SecApi()\n",
        "curr.request(source='affected_detail',payload=AffectedPayload()) \n",
        "curr_df=curr.dataframe(FECHA_INT_STR=str2date)\n",
        "curr_df= curr_df[curr_df['NOMBRE_REGION']==region].drop(columns=['HORA','DIA','MES','ANHO'])\n",
        "affected = curr_df['CLIENTES_AFECTADOS'].sum()\n",
        "\n",
        "print(f'{'usuarios sin servicio':<22}',':',f'{affected:,.0f}',' clientes',f'({affected/clients:.2%})')\n",
        "print(f'{'fecha reporte':<22}',':',curr.report_date.strftime(\"%d/%m/%Y %H:%M\"))\n",
        "\n",
        "res:DataFrame = curr_df\\\n",
        "    .groupby(['NOMBRE_COMUNA','NOMBRE_EMPRESA','FECHA_INT_STR'],as_index=False)['CLIENTES_AFECTADOS']\\\n",
        "    .sum().sort_values(['CLIENTES_AFECTADOS'],ascending=False)\n",
        "res['TIEMPO_SIN_SERVICIO'] = res['FECHA_INT_STR'].apply(lambda event_date: datetime.now()-event_date+timedelta(days=0))\n",
        "\n",
        "#cspell:disable\n",
        "res:DataFrame = res.rename(columns={\n",
        "    'FECHA_INT_STR':'INCIDENTE',\n",
        "    'CLIENTES_AFECTADOS':'SIN_SERVICIO',\n",
        "    'NOMBRE_EMPRESA':'DISTRIBUIDORA',\n",
        "    'NOMBRE_COMUNA':'COMUNA'\n",
        "    })\n",
        "\n",
        "#days w/o service\n",
        "res['TIEMPO_SIN_SERVICIO'] = res['INCIDENTE'].apply(deltatime_fmt)\n",
        "res"
      ]
    },
    {
      "cell_type": "code",
      "execution_count": 2,
      "metadata": {},
      "outputs": [
        {
          "data": {
            "text/html": [
              "<div>\n",
              "<style scoped>\n",
              "    .dataframe tbody tr th:only-of-type {\n",
              "        vertical-align: middle;\n",
              "    }\n",
              "\n",
              "    .dataframe tbody tr th {\n",
              "        vertical-align: top;\n",
              "    }\n",
              "\n",
              "    .dataframe thead th {\n",
              "        text-align: right;\n",
              "    }\n",
              "</style>\n",
              "<table border=\"1\" class=\"dataframe\">\n",
              "  <thead>\n",
              "    <tr style=\"text-align: right;\">\n",
              "      <th></th>\n",
              "      <th>NOMBRE_COMUNA</th>\n",
              "      <th>CLIENTES_AFECTADOS</th>\n",
              "    </tr>\n",
              "  </thead>\n",
              "  <tbody>\n",
              "    <tr>\n",
              "      <th>2</th>\n",
              "      <td>Viña del Mar</td>\n",
              "      <td>513</td>\n",
              "    </tr>\n",
              "    <tr>\n",
              "      <th>1</th>\n",
              "      <td>Quilpue</td>\n",
              "      <td>83</td>\n",
              "    </tr>\n",
              "    <tr>\n",
              "      <th>0</th>\n",
              "      <td>Puchuncavi</td>\n",
              "      <td>1</td>\n",
              "    </tr>\n",
              "  </tbody>\n",
              "</table>\n",
              "</div>"
            ],
            "text/plain": [
              "  NOMBRE_COMUNA  CLIENTES_AFECTADOS\n",
              "2  Viña del Mar                 513\n",
              "1       Quilpue                  83\n",
              "0    Puchuncavi                   1"
            ]
          },
          "execution_count": 2,
          "metadata": {},
          "output_type": "execute_result"
        }
      ],
      "source": [
        "res_by_city:DataFrame = curr_df.groupby(['NOMBRE_COMUNA'],as_index=False)['CLIENTES_AFECTADOS']\\\n",
        "    .sum().sort_values(['CLIENTES_AFECTADOS'],ascending=False)\n",
        "res_by_city"
      ]
    },
    {
      "cell_type": "code",
      "execution_count": 3,
      "metadata": {},
      "outputs": [
        {
          "data": {
            "text/plain": [
              "'67 days, 9:59:08.616230'"
            ]
          },
          "execution_count": 3,
          "metadata": {},
          "output_type": "execute_result"
        }
      ],
      "source": [
        "from datetime import datetime\n",
        "delta = datetime.now()-datetime.strptime(\"19-06-2024\",\"%d-%m-%Y\")\n",
        "str(delta)"
      ]
    }
  ],
  "metadata": {
    "kernelspec": {
      "display_name": "Python 3",
      "language": "python",
      "name": "python3"
    },
    "language_info": {
      "codemirror_mode": {
        "name": "ipython",
        "version": 3
      },
      "file_extension": ".py",
      "mimetype": "text/x-python",
      "name": "python",
      "nbconvert_exporter": "python",
      "pygments_lexer": "ipython3",
      "version": "3.12.0"
    }
  },
  "nbformat": 4,
  "nbformat_minor": 2
}
