{
 "cells": [
  {
   "cell_type": "code",
   "execution_count": 1,
   "metadata": {},
   "outputs": [],
   "source": [
    "#source\n",
    "SRC_NAC_CLIENTS='https://apps.sec.cl/INTONLINEv1/ClientesAfectados/GetClientesNacional'\n",
    "SRL_REG_CLIENTS= 'https://apps.sec.cl/INTONLINEv1/ClientesAfectados/Get'\n",
    "SRC_HOUR ='https://apps.sec.cl/INTONLINEv1/ClientesAfectados/GetHoraServer'\n",
    "#local data\n",
    "SRC_AFFECTED_AGG ='https://apps.sec.cl/INTONLINEv1/ClientesAfectados/Get'\n",
    "SRC_AFFECTED = 'https://apps.sec.cl/INTONLINEv1/ClientesAfectados/GetPorFecha'"
   ]
  }
 ],
 "metadata": {
  "kernelspec": {
   "display_name": "Python 3",
   "language": "python",
   "name": "python3"
  },
  "language_info": {
   "codemirror_mode": {
    "name": "ipython",
    "version": 3
   },
   "file_extension": ".py",
   "mimetype": "text/x-python",
   "name": "python",
   "nbconvert_exporter": "python",
   "pygments_lexer": "ipython3",
   "version": "3.12.0"
  }
 },
 "nbformat": 4,
 "nbformat_minor": 2
}
