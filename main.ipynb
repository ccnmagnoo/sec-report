{
 "cells": [
  {
   "cell_type": "code",
   "execution_count": 2,
   "metadata": {},
   "outputs": [
    {
     "name": "stdout",
     "output_type": "stream",
     "text": [
      "usuarios regionales: 780,563 clientes\n",
      "usuarios sin servicio : 598  clientes 0.08%\n"
     ]
    },
    {
     "data": {
      "text/html": [
       "<div>\n",
       "<style scoped>\n",
       "    .dataframe tbody tr th:only-of-type {\n",
       "        vertical-align: middle;\n",
       "    }\n",
       "\n",
       "    .dataframe tbody tr th {\n",
       "        vertical-align: top;\n",
       "    }\n",
       "\n",
       "    .dataframe thead th {\n",
       "        text-align: right;\n",
       "    }\n",
       "</style>\n",
       "<table border=\"1\" class=\"dataframe\">\n",
       "  <thead>\n",
       "    <tr style=\"text-align: right;\">\n",
       "      <th></th>\n",
       "      <th>COMUNA</th>\n",
       "      <th>DISTRIBUIDORA</th>\n",
       "      <th>INCIDENTE</th>\n",
       "      <th>SIN_SERVICIO</th>\n",
       "      <th>TIEMPO_SIN_SERVICIO</th>\n",
       "    </tr>\n",
       "  </thead>\n",
       "  <tbody>\n",
       "    <tr>\n",
       "      <th>1</th>\n",
       "      <td>Viña del Mar</td>\n",
       "      <td>CHILQUINTA</td>\n",
       "      <td>2024-02-19</td>\n",
       "      <td>513</td>\n",
       "      <td>185 days 08:39:10.974593</td>\n",
       "    </tr>\n",
       "    <tr>\n",
       "      <th>0</th>\n",
       "      <td>Quilpue</td>\n",
       "      <td>CHILQUINTA</td>\n",
       "      <td>2024-02-19</td>\n",
       "      <td>83</td>\n",
       "      <td>185 days 08:39:10.974593</td>\n",
       "    </tr>\n",
       "    <tr>\n",
       "      <th>2</th>\n",
       "      <td>Zapallar</td>\n",
       "      <td>CGE</td>\n",
       "      <td>2024-08-11</td>\n",
       "      <td>2</td>\n",
       "      <td>11 days 08:39:10.974593</td>\n",
       "    </tr>\n",
       "  </tbody>\n",
       "</table>\n",
       "</div>"
      ],
      "text/plain": [
       "         COMUNA DISTRIBUIDORA  INCIDENTE  SIN_SERVICIO  \\\n",
       "1  Viña del Mar    CHILQUINTA 2024-02-19           513   \n",
       "0       Quilpue    CHILQUINTA 2024-02-19            83   \n",
       "2      Zapallar           CGE 2024-08-11             2   \n",
       "\n",
       "       TIEMPO_SIN_SERVICIO  \n",
       "1 185 days 08:39:10.974593  \n",
       "0 185 days 08:39:10.974593  \n",
       "2  11 days 08:39:10.974593  "
      ]
     },
     "execution_count": 2,
     "metadata": {},
     "output_type": "execute_result"
    }
   ],
   "source": [
    "from datetime import datetime, timedelta\n",
    "from pandas import DataFrame\n",
    "from models.Payload import REGION, RegPayload, SecPayload\n",
    "from models.Source import DataSource as SecApi\n",
    "from utils.transforms import str2date\n",
    "from urllib.parse import urlencode as url\n",
    "#cspell:disable\n",
    "\n",
    "#input\n",
    "region:REGION='Valparaiso'\n",
    "#total regional clients\n",
    "users = SecApi()\n",
    "q = users.request('reg_clients',RegPayload(region=region))\n",
    "clients = int(q[0]['CLIENTES'])\n",
    "print(f\"usuarios regionales: {clients:,.0f} clientes\")\n",
    "\n",
    "#data\n",
    "curr = SecApi()\n",
    "curr.request('affected_detail',SecPayload(delay_days=10)) \n",
    "curr_df=curr.dataframe(FECHA_INT_STR=str2date)\n",
    "curr_df= curr_df[curr_df['NOMBRE_REGION']==region].drop(columns=['HORA','DIA','MES','ANHO'])\n",
    "affected = curr_df['CLIENTES_AFECTADOS'].sum()\n",
    "\n",
    "print('usuarios sin servicio :',f'{affected:,.0f}',' clientes',f'{affected/clients:.2%}')\n",
    "\n",
    "res:DataFrame = curr_df.groupby(['NOMBRE_COMUNA','NOMBRE_EMPRESA','FECHA_INT_STR'],as_index=False)['CLIENTES_AFECTADOS'].sum().sort_values(['CLIENTES_AFECTADOS'],ascending=False)\n",
    "\n",
    "#cspell:disable\n",
    "res:DataFrame = res.rename(columns={\n",
    "    'FECHA_INT_STR':'INCIDENTE',\n",
    "    'CLIENTES_AFECTADOS':'SIN_SERVICIO',\n",
    "    'NOMBRE_EMPRESA':'DISTRIBUIDORA',\n",
    "    'NOMBRE_COMUNA':'COMUNA'\n",
    "    })\n",
    "\n",
    "#days w/o service\n",
    "res['TIEMPO_SIN_SERVICIO'] = res['INCIDENTE'].apply(lambda event_date: datetime.now()-event_date+timedelta(days=1) )\n",
    "res"
   ]
  },
  {
   "cell_type": "code",
   "execution_count": null,
   "metadata": {},
   "outputs": [],
   "source": [
    "res_by_city:DataFrame = curr_df.groupby(['NOMBRE_COMUNA'],as_index=False)['CLIENTES_AFECTADOS']\\\n",
    "    .sum().sort_values(['CLIENTES_AFECTADOS'],ascending=False)\n",
    "res_by_city"
   ]
  }
 ],
 "metadata": {
  "kernelspec": {
   "display_name": "Python 3",
   "language": "python",
   "name": "python3"
  },
  "language_info": {
   "codemirror_mode": {
    "name": "ipython",
    "version": 3
   },
   "file_extension": ".py",
   "mimetype": "text/x-python",
   "name": "python",
   "nbconvert_exporter": "python",
   "pygments_lexer": "ipython3",
   "version": "3.12.0"
  }
 },
 "nbformat": 4,
 "nbformat_minor": 2
}
